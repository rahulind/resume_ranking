{
 "cells": [
  {
   "cell_type": "code",
   "execution_count": 4,
   "metadata": {},
   "outputs": [],
   "source": [
    "import os\n",
    "import pandas as pd\n",
    "dataset=[]\n",
    "\n",
    "directory = os.path.join(\"d:\\\\\",\"NLP\\\\Untitled Folder\\\\New folder\\\\resumes\")\n",
    "for root,dirs,files in os.walk(directory):\n",
    "    for file in files:\n",
    "        if file.endswith(\".txt\"):\n",
    "            f=open(file,encoding=\"utf8\")\n",
    "            con=f.read()\n",
    "            f.close()\n",
    "            dataset.append(con)\n",
    "           \n"
   ]
  },
  {
   "cell_type": "code",
   "execution_count": 6,
   "metadata": {},
   "outputs": [
    {
     "data": {
      "text/plain": [
       "40"
      ]
     },
     "execution_count": 6,
     "metadata": {},
     "output_type": "execute_result"
    }
   ],
   "source": [
    "len(dataset)"
   ]
  },
  {
   "cell_type": "code",
   "execution_count": 7,
   "metadata": {},
   "outputs": [],
   "source": [
    "arr=[0]*40"
   ]
  },
  {
   "cell_type": "code",
   "execution_count": 44,
   "metadata": {},
   "outputs": [],
   "source": [
    "dic={'resume':dataset,'liked':arr}"
   ]
  },
  {
   "cell_type": "code",
   "execution_count": 45,
   "metadata": {},
   "outputs": [],
   "source": [
    "df = pd.DataFrame(dic)"
   ]
  },
  {
   "cell_type": "code",
   "execution_count": 46,
   "metadata": {},
   "outputs": [
    {
     "data": {
      "text/html": [
       "<div>\n",
       "<style scoped>\n",
       "    .dataframe tbody tr th:only-of-type {\n",
       "        vertical-align: middle;\n",
       "    }\n",
       "\n",
       "    .dataframe tbody tr th {\n",
       "        vertical-align: top;\n",
       "    }\n",
       "\n",
       "    .dataframe thead th {\n",
       "        text-align: right;\n",
       "    }\n",
       "</style>\n",
       "<table border=\"1\" class=\"dataframe\">\n",
       "  <thead>\n",
       "    <tr style=\"text-align: right;\">\n",
       "      <th></th>\n",
       "      <th>resume</th>\n",
       "      <th>liked</th>\n",
       "    </tr>\n",
       "  </thead>\n",
       "  <tbody>\n",
       "    <tr>\n",
       "      <th>0</th>\n",
       "      <td>Curriculum Vitae \\n\\nV. Gowribalan  MCSI \\n  F...</td>\n",
       "      <td>0</td>\n",
       "    </tr>\n",
       "    <tr>\n",
       "      <th>1</th>\n",
       "      <td>Laurent Lapaire \\n\\nDate of birth: \\nNationali...</td>\n",
       "      <td>0</td>\n",
       "    </tr>\n",
       "    <tr>\n",
       "      <th>2</th>\n",
       "      <td>Trevor Allan Jarrett \\n \\nMobile:  +852 9101 3...</td>\n",
       "      <td>0</td>\n",
       "    </tr>\n",
       "    <tr>\n",
       "      <th>3</th>\n",
       "      <td>\\nPhua Li Ting \\n \\nPERSONAL PARTICULARS \\n \\...</td>\n",
       "      <td>0</td>\n",
       "    </tr>\n",
       "    <tr>\n",
       "      <th>4</th>\n",
       "      <td>KIM JIA LIANG ROY                             ...</td>\n",
       "      <td>0</td>\n",
       "    </tr>\n",
       "    <tr>\n",
       "      <th>5</th>\n",
       "      <td>Si m\\n\\n Yuen -Curri cul um\\n\\n Vi tae \\n\\nPER...</td>\n",
       "      <td>0</td>\n",
       "    </tr>\n",
       "    <tr>\n",
       "      <th>6</th>\n",
       "      <td>(cid:120) \\n\\n(cid:120) \\n\\n(cid:120) \\n\\n(cid...</td>\n",
       "      <td>0</td>\n",
       "    </tr>\n",
       "    <tr>\n",
       "      <th>7</th>\n",
       "      <td>JANSEN NG JUN XIANG \\n405 Tampines Street 41 #...</td>\n",
       "      <td>0</td>\n",
       "    </tr>\n",
       "    <tr>\n",
       "      <th>8</th>\n",
       "      <td>JANE LOW  SHU PING \\nPHONE: 82234320 E-MAIL: J...</td>\n",
       "      <td>0</td>\n",
       "    </tr>\n",
       "    <tr>\n",
       "      <th>9</th>\n",
       "      <td>Claire Shen CFA FRM \\n\\nCONTACT INFORMATION \\n...</td>\n",
       "      <td>0</td>\n",
       "    </tr>\n",
       "    <tr>\n",
       "      <th>10</th>\n",
       "      <td>Takorn “Ohm” Khempila       \\n           \\ntkh...</td>\n",
       "      <td>0</td>\n",
       "    </tr>\n",
       "    <tr>\n",
       "      <th>11</th>\n",
       "      <td>\\nAna\\t\\n  H.\\t\\n  Tse\\t\\n   \\t\\n  \\n19B\\t\\n ...</td>\n",
       "      <td>0</td>\n",
       "    </tr>\n",
       "    <tr>\n",
       "      <th>12</th>\n",
       "      <td>MONALI HIRAWAT     \\nAddress  : B l o c k   9 ...</td>\n",
       "      <td>0</td>\n",
       "    </tr>\n",
       "    <tr>\n",
       "      <th>13</th>\n",
       "      <td>Casey Lann Creencia  \\n\\n617D Punggol Drive, #...</td>\n",
       "      <td>0</td>\n",
       "    </tr>\n",
       "    <tr>\n",
       "      <th>14</th>\n",
       "      <td>Makiko Hashimoto \\n8 Lorong 38 Geylang #07-09 ...</td>\n",
       "      <td>0</td>\n",
       "    </tr>\n",
       "    <tr>\n",
       "      <th>15</th>\n",
       "      <td>\\n\\n   \\n \\n \\n \\n\\n \\n \\n\\n \\n \\n \\nOBJECTIV...</td>\n",
       "      <td>0</td>\n",
       "    </tr>\n",
       "    <tr>\n",
       "      <th>16</th>\n",
       "      <td>Nicole Shen MSc \\nContact:   +65 9068 7559    ...</td>\n",
       "      <td>0</td>\n",
       "    </tr>\n",
       "    <tr>\n",
       "      <th>17</th>\n",
       "      <td>Wong Pui Man Percy (黃佩雯) \\n\\nDate of Birth: 27...</td>\n",
       "      <td>0</td>\n",
       "    </tr>\n",
       "    <tr>\n",
       "      <th>18</th>\n",
       "      <td>TAN TONG HOW \\n\\n \\n\\nEMAIL: chentonghao@gmail...</td>\n",
       "      <td>0</td>\n",
       "    </tr>\n",
       "    <tr>\n",
       "      <th>19</th>\n",
       "      <td> \\n\\nYU MORIKUNI \\nFlat D, 7th Floor, Brillia...</td>\n",
       "      <td>0</td>\n",
       "    </tr>\n",
       "    <tr>\n",
       "      <th>20</th>\n",
       "      <td>Shan Shan LEE \\n32 Segar Road, #04-17, Blossom...</td>\n",
       "      <td>0</td>\n",
       "    </tr>\n",
       "    <tr>\n",
       "      <th>21</th>\n",
       "      <td>Maria-Victoria Komoltseva \\nTel: +852 6376 563...</td>\n",
       "      <td>0</td>\n",
       "    </tr>\n",
       "    <tr>\n",
       "      <th>22</th>\n",
       "      <td>JIRAT SITTHISIRIVORAKUL \\n\\nMobile: 81541940  ...</td>\n",
       "      <td>0</td>\n",
       "    </tr>\n",
       "    <tr>\n",
       "      <th>23</th>\n",
       "      <td>\\n\\nFeb - May 16 \\n\\n \\n\\n \\n\\n \\n\\n \\n\\nNov ...</td>\n",
       "      <td>0</td>\n",
       "    </tr>\n",
       "    <tr>\n",
       "      <th>24</th>\n",
       "      <td>Tan Wei Ru \\nEmail: wrtan14@gmail.com   \\nCont...</td>\n",
       "      <td>0</td>\n",
       "    </tr>\n",
       "    <tr>\n",
       "      <th>25</th>\n",
       "      <td>Pui-Yuk Fiona NG \\n \\nTel:  +852 6281 6820  | ...</td>\n",
       "      <td>0</td>\n",
       "    </tr>\n",
       "    <tr>\n",
       "      <th>26</th>\n",
       "      <td>﻿Kasaya Shuei\\nCONTACT\\n\\nBlk 296A Bukit Batok...</td>\n",
       "      <td>0</td>\n",
       "    </tr>\n",
       "    <tr>\n",
       "      <th>27</th>\n",
       "      <td>JEFFREY TAN KENG BOON \\nw (65) 9799-2454 w  ...</td>\n",
       "      <td>0</td>\n",
       "    </tr>\n",
       "    <tr>\n",
       "      <th>28</th>\n",
       "      <td>JEFFREY TAN KENG BOON \\nw (65) 9799-2454 w  ...</td>\n",
       "      <td>0</td>\n",
       "    </tr>\n",
       "    <tr>\n",
       "      <th>29</th>\n",
       "      <td>CURRICULUM VITAE \\nCHEW SHEK LEONG (DEREK) \\n...</td>\n",
       "      <td>0</td>\n",
       "    </tr>\n",
       "    <tr>\n",
       "      <th>30</th>\n",
       "      <td>﻿                                             ...</td>\n",
       "      <td>0</td>\n",
       "    </tr>\n",
       "    <tr>\n",
       "      <th>31</th>\n",
       "      <td>PRIVATE AND CONFIDENTIAL \\n\\n \\n\\nDECEMBER  20...</td>\n",
       "      <td>0</td>\n",
       "    </tr>\n",
       "    <tr>\n",
       "      <th>32</th>\n",
       "      <td>CARA ZHANG \\ncara.kokoro@gmail.com \\n\\n \\nEDUC...</td>\n",
       "      <td>0</td>\n",
       "    </tr>\n",
       "    <tr>\n",
       "      <th>33</th>\n",
       "      <td>WAN Kin Keung, Ken \\nMobile: +(852) 6748-8526 ...</td>\n",
       "      <td>0</td>\n",
       "    </tr>\n",
       "    <tr>\n",
       "      <th>34</th>\n",
       "      <td>Name: \\nAddress: \\nContact No.: \\nMarital Stat...</td>\n",
       "      <td>0</td>\n",
       "    </tr>\n",
       "    <tr>\n",
       "      <th>35</th>\n",
       "      <td>\\t\\n\\t\\n\\t\\n\\n\\t\\n\\n\\t\\n\\n\\t\\n\\n\\t\\n\\n\\t\\n\\n\\t...</td>\n",
       "      <td>0</td>\n",
       "    </tr>\n",
       "    <tr>\n",
       "      <th>36</th>\n",
       "      <td>CHOW SHING LUNG CHESTER \\nAddress：24D, Kwai Ch...</td>\n",
       "      <td>0</td>\n",
       "    </tr>\n",
       "    <tr>\n",
       "      <th>37</th>\n",
       "      <td>LIANG Yajing  (Alison)\\n\\nTel: +852 65795592\\n...</td>\n",
       "      <td>0</td>\n",
       "    </tr>\n",
       "    <tr>\n",
       "      <th>38</th>\n",
       "      <td>YANG，TAMMIE, QI,杨  琪 \\n \\nEmail: qyangaf@gmail...</td>\n",
       "      <td>0</td>\n",
       "    </tr>\n",
       "    <tr>\n",
       "      <th>39</th>\n",
       "      <td>\\n \\n\\nMobile: +852 9858 7886 (HK) / +65 9830...</td>\n",
       "      <td>0</td>\n",
       "    </tr>\n",
       "  </tbody>\n",
       "</table>\n",
       "</div>"
      ],
      "text/plain": [
       "                                               resume  liked\n",
       "0   Curriculum Vitae \\n\\nV. Gowribalan  MCSI \\n  F...      0\n",
       "1   Laurent Lapaire \\n\\nDate of birth: \\nNationali...      0\n",
       "2   Trevor Allan Jarrett \\n \\nMobile:  +852 9101 3...      0\n",
       "3    \\nPhua Li Ting \\n \\nPERSONAL PARTICULARS \\n \\...      0\n",
       "4   KIM JIA LIANG ROY                             ...      0\n",
       "5   Si m\\n\\n Yuen -Curri cul um\\n\\n Vi tae \\n\\nPER...      0\n",
       "6   (cid:120) \\n\\n(cid:120) \\n\\n(cid:120) \\n\\n(cid...      0\n",
       "7   JANSEN NG JUN XIANG \\n405 Tampines Street 41 #...      0\n",
       "8   JANE LOW  SHU PING \\nPHONE: 82234320 E-MAIL: J...      0\n",
       "9   Claire Shen CFA FRM \\n\\nCONTACT INFORMATION \\n...      0\n",
       "10  Takorn “Ohm” Khempila       \\n           \\ntkh...      0\n",
       "11   \\nAna\\t\\n  H.\\t\\n  Tse\\t\\n   \\t\\n  \\n19B\\t\\n ...      0\n",
       "12  MONALI HIRAWAT     \\nAddress  : B l o c k   9 ...      0\n",
       "13  Casey Lann Creencia  \\n\\n617D Punggol Drive, #...      0\n",
       "14  Makiko Hashimoto \\n8 Lorong 38 Geylang #07-09 ...      0\n",
       "15   \\n\\n   \\n \\n \\n \\n\\n \\n \\n\\n \\n \\n \\nOBJECTIV...      0\n",
       "16  Nicole Shen MSc \\nContact:   +65 9068 7559    ...      0\n",
       "17  Wong Pui Man Percy (黃佩雯) \\n\\nDate of Birth: 27...      0\n",
       "18  TAN TONG HOW \\n\\n \\n\\nEMAIL: chentonghao@gmail...      0\n",
       "19   \\n\\nYU MORIKUNI \\nFlat D, 7th Floor, Brillia...      0\n",
       "20  Shan Shan LEE \\n32 Segar Road, #04-17, Blossom...      0\n",
       "21  Maria-Victoria Komoltseva \\nTel: +852 6376 563...      0\n",
       "22  JIRAT SITTHISIRIVORAKUL \\n\\nMobile: 81541940  ...      0\n",
       "23   \\n\\nFeb - May 16 \\n\\n \\n\\n \\n\\n \\n\\n \\n\\nNov ...      0\n",
       "24  Tan Wei Ru \\nEmail: wrtan14@gmail.com   \\nCont...      0\n",
       "25  Pui-Yuk Fiona NG \\n \\nTel:  +852 6281 6820  | ...      0\n",
       "26  ﻿Kasaya Shuei\\nCONTACT\\n\\nBlk 296A Bukit Batok...      0\n",
       "27  JEFFREY TAN KENG BOON \\nw (65) 9799-2454 w  ...      0\n",
       "28  JEFFREY TAN KENG BOON \\nw (65) 9799-2454 w  ...      0\n",
       "29  CURRICULUM VITAE \\nCHEW SHEK LEONG (DEREK) \\n...      0\n",
       "30  ﻿                                             ...      0\n",
       "31  PRIVATE AND CONFIDENTIAL \\n\\n \\n\\nDECEMBER  20...      0\n",
       "32  CARA ZHANG \\ncara.kokoro@gmail.com \\n\\n \\nEDUC...      0\n",
       "33  WAN Kin Keung, Ken \\nMobile: +(852) 6748-8526 ...      0\n",
       "34  Name: \\nAddress: \\nContact No.: \\nMarital Stat...      0\n",
       "35  \\t\\n\\t\\n\\t\\n\\n\\t\\n\\n\\t\\n\\n\\t\\n\\n\\t\\n\\n\\t\\n\\n\\t...      0\n",
       "36  CHOW SHING LUNG CHESTER \\nAddress：24D, Kwai Ch...      0\n",
       "37  LIANG Yajing  (Alison)\\n\\nTel: +852 65795592\\n...      0\n",
       "38  YANG，TAMMIE, QI,杨  琪 \\n \\nEmail: qyangaf@gmail...      0\n",
       "39   \\n \\n\\nMobile: +852 9858 7886 (HK) / +65 9830...      0"
      ]
     },
     "execution_count": 46,
     "metadata": {},
     "output_type": "execute_result"
    }
   ],
   "source": [
    "df"
   ]
  },
  {
   "cell_type": "code",
   "execution_count": 53,
   "metadata": {},
   "outputs": [],
   "source": [
    "df.iloc[36,1]=1"
   ]
  },
  {
   "cell_type": "code",
   "execution_count": 56,
   "metadata": {},
   "outputs": [
    {
     "data": {
      "text/plain": [
       "'Curriculum Vitae \\n\\nV. Gowribalan  MCSI \\n  FCMA, CPA (Aust.), CGMA, BSc  (Hons.)  \\n\\n \\nInvestment Manager with an  established  investment  track-record  across  the GCC  region  spanning  \\nlisted equities, sukuks and debt securities.  Honed expertise of 14 years in portfolio management and \\ninvestment analysis. Experience  includes  establishing and  leading  the Asset Management Division \\n(AMD) of Ahli Bank SAOG; launching of mutual fund, structuring of wealth management products, \\nstrategizing acquisitions, handling initial public offerings (IPOs) and raising investment funds across \\nasset-classes and risk-thresholds.  \\n \\nCredentials  include a First Class Honours Degree  in Applied Accounting   (BSc. Hons.), Member of \\nthe Chartered Institute of Securities and Investment – U.K. (MCSI), Fellow of the Chartered Institute \\nof  Management  Accountants  –  U.K.  (FCMA),  Certified  Practising  Accountant  (CPA  Aust.)  and \\nChartered Global Management Accountant – U.S.A. (CGMA). \\n \\nAverage returns generated amounts to 12.5% (annual average) over the past 9 years, across the GCC \\nlisted equities and exceeding 4.5% within the fixed income asset class.  \\n \\n \\n \\n \\n \\n\\nPROFESSIONAL EXPERIENCE \\uf0bb 14 YEARS \\n\\n \\n\\n \\n\\n \\n\\n \\n\\n \\n\\n \\n\\n \\n\\n \\n\\n    (3⅓ Yrs. / Oct.`12 – Feb.’16) \\n\\n \\nAhli Bank SAOG \\n(www.ahlibank.om)  \\n \\nHead of Asset Management \\nReported  to CEO;  founding  employee of  the  division,  tasked with  establishing  the  business  vertical  for  the \\nbanking franchise. \\n \\nAchievements: Built a client profile spanning the GCC region, encompassing; Pension Funds, Banks, Insurance \\nCompanies, Takaful operators, Large Corporates, Family offices and HNI/Individual investors. \\n \\nInvestment  Management:  GCC/MENA  focused  –  capital  market  investments  via  Mutual  Fund  and \\nDiscretionary Portfolio Management (DPM) service offerings tailored to suit varied risk tolerances. I  led the \\ninvestment  managers  with  oversight  on  asset  allocation,  security  universe  selection  and  ma rket  risk \\nmanagement. \\n• \\nFirst in the market with exclusive DPM service offering, focusing on Income/Debt securities, \\nGrew AUM from inception up to USD 340 Mn. – within 3 years, \\n• \\n• \\nAUM demography – 61% fixed income / debt securities, remainder GCC equities. \\n\\n \\nInvestment advisory & placement: Oman Sovereign Sukuk – investment advisory - (USD 654 Mn.), 3 Power \\nCompany IPOs – acted as collecting agent (USD 305 Mn.), Omantel 2nd IPO– acted as collecting agent (USD \\n248  Mn.),  Islamic  Bank  and  Takaful  operator  IPO  collecting  agent  (USD  129  Mn.),  Oman’s  first  Sharia \\ncomplaint MENA focused fund – issue manager, fund manager & collecting agent. \\n \\nWealth Management - Product Development: \\n\\uf0b7 Yield Enhancer Series (YES) Notes  - income enhancing, asset backed notes of fixed term and return \\n\\uf0b7 ahli-annuities - self-directed wealth management and retirement planning solutions \\n \\n\\uf0b7 Gulf Retirement and Investment Plan (GRIP) – holistic services platform targeting self -directed retirement \\nplanning and wealth management solutions \\n \\nKey acquisitions: \\n\\uf0b7 Gulf Mushroom Products Co. (GMPI) 22.5% stake  \\n\\uf0b7 Majan Glass (MGCI) 3.5% stake \\n\\n\\uf0b7 Sweets of Oman (OSCI) 7.6% stake   \\n\\n \\n\\n \\n\\ne mail : vgowribalan@gmail.com     :     vgowribalan@live.com                  Mobile : (+971) 50 246 0800 \\n\\n\\x0cCurriculum Vitae \\n\\n \\n\\n \\n\\n \\n\\n \\n\\n \\n\\n \\n\\n \\n\\n           (1 Yr. / Apr’07 – Jun’08) \\n\\n    (4¼ Yrs. / Jun.’08 – Sep.’12) \\n\\n \\n \\n \\nOman National Investment Corporation (ONIC) Holding SAOG \\n(www.onicholding.com) \\n \\n \\nPortfolio Manager \\n \\nReported to the Chief Executive Officer, as a member of the Management Investment Committee, responsible \\nfor  formulating  overall  investment  and  portfolio  management  strategy.  The  portfolios  under  purview \\nincluded the proprietary portfolio and the Insurance subsidiary portfolio (Insurance Policy holders funds are \\nmanaged in-accordance with the Capital Market Authority stipulated investment guidelines). \\n \\nOversight  over  a  portfolio  of  USD  250Mn,  which  consisted  of  market  coverage  spanning  the  GCC  region \\n(Equities and Fixed Income), Strategic Holdings across financial services sector and select Global ETFs. \\n \\nReturns earned, averaged 18% p.a. over 4 years and ‘alpha’ (6% average) over the years. \\n \\n \\nThe Financial Corporation Co. SAOG  \\n(FINCORP) (www.fincorp.org) \\n \\nAssistant Vice President / AVP \\n \\nReported  to  the  EVP,  formulated  trading &  portfolio  management  strategies  for  discretionary  and  mutual \\nfund assets under management. \\n \\nAchievements: Total portfolio under management - USD 220Mn (RO. 85Mn.) / Return (70% p.a.) - Mutual funds \\nunder management recorded exceptional performance, exhibiting low-volatility, and impressive risk adjusted \\nreturns notching alpha (α) in excess of 7% (Best Performing funds – 2007) \\n\\uf0b7   Generated  realised gains  in  excess of  $  2.8Mn.  for  the proprietary trading portfolio  (RO.  1.1Mn.) / Return \\n(70% p.a.) \\n \\nSince appointment initiated equity research reports in the following segments: \\nBanking - Oman International Bank SAOG (OIBB)  Cement - Oman Cement Co. SAOG (OCOI)  \\nSteel - Al Jazeera Steel Products SAOG (ATMI) \\nTelecom - Oman Telecommunication Co. SAOG (OTEL) \\nWorked as lead analyst for an IPO of a large contracting and engineering company, which emerged the \\nlargest IPO in the history of the capital market of the Sultanate as at Dec. 2007 (GECS). \\n \\n \\nMGH Associates Ltd. (www.mghglobal.com) \\n \\nChief Trader \\n \\n \\nAchievements:  Since  appointment  achieved  an  ROI  of  63%  p.a.     and  increased  total  portfolio  under \\nmanagement to $ 15Mn. An increase of 73%, with returns of 45% p.a. \\n \\n \\nHNB Securities Ltd. (www.hnb.lk / www.hnbsl.lk)  \\n \\n \\nAssistant Manager - Trading & Strategy \\n \\nReported to the CEO, responsible for formulating the respective trading strategies for all markets in operation: \\nEquity Trading, Bond Trading and Money Market Trading. \\n \\n\\uf0b7 Total Portfolio under management US$ 100 Mn. / Return (48% p.a.) \\uf0b7 Total Trading Profits earned $ 6.37Mn. \\n\\uf0b7 ROI of 52% p.a. average maintained for the period(s). \\n \\n \\nErnst & Young (www.ey.com) \\n \\n\\n         (1 Yr. 3 Mths. / Jan`06 – Mar`07) \\n\\n     (3 Yrs. / Nov`02 – Nov`05) \\n\\nFinancial Assurance Executive \\n\\n   (8 Mths. / Mar`02 – Nov`02) \\n\\n \\n\\n \\n\\n \\n\\n \\n \\n\\n \\n\\n \\n \\n\\n \\n\\n \\n \\n\\n \\n\\n \\n\\ne mail : vgowribalan@gmail.com     :     vgowribalan@live.com                  Mobile : (+971) 50 246 0800 \\n\\n\\x0c \\nPROFESSIONAL EXPERIENCE \\uf0bb 14 YEARS \\n \\n\\nROLE \\n\\nORGANISATION \\n\\nTENURE \\n\\nAVERAGE \\nRETURN \\n\\nCurriculum Vitae \\n\\nHead of Asset Management \\n\\nAhli Bank SAOG \\n\\nPortfolio Manager \\n\\nAssistant Vice President / AVP \\n\\nOman National Inve stment Corporation  \\nONIC Holding SAOG \\n\\nThe Financ ial Corporation Co. SAOG  \\nFINCORP \\n\\nChief Trader \\n\\nMGH Associates Ltd. \\n\\nTrading & Strategy \\nAssistant Manager \\n\\nHNB Securities Ltd. \\nHatton Nat ional Bank (HNB)  \\n\\nFinancial Assurance Executive \\n\\nErnst & Young \\n\\n \\n\\n \\n \\n \\n\\n8% p.a. \\n\\n18% p.a. \\n\\n3⅓ Yrs. / \\n1st Oct.`12 – 15th Feb.`16 \\n4¼ Yrs. / \\n28th Jun.’08 – 30th Sep.’12 \\n1 Yr. / \\n28th Apr’07 – 8th Jun’08 \\n1 Yr. 3 Mths. / \\n1st Jan`06 – 31st Mar`07 \\n3 Yrs. / \\n23rd Nov`02 – 30th Nov`05)  52% p.a. \\n8 Mths. / \\n1st Mar`02 – 6th Nov`02 \\n\\n70% p.a. \\n\\n45% p.a. \\n\\nn/a \\n\\nACADEMIC & PROFESSIONAL CREDENTIALS \\n\\n \\nAcademic Qualifications: \\n \\n\\n\\uf0b7  BSc (Hons.) –First Class – Applied Accounting (University of Oxford Brookes, Oxford, U.K. ) \\n\\n \\nProfessional Qualifications: \\n \\n\\n \\n\\n\\uf0b7  MCSI / Member of the Chartered Institute of Securities and Investment  (Membership No . 134821) \\n\\uf0b7  FCMA / Fellow of the Chartered Institute of Management Accountants  – U.K. (Registration No. 1-HNSP) \\n\\uf0b7  CPA / Certified Practising Accountant – Australia (Membership No. 9582697) \\n\\uf0b7  CGMA /Chartered Global Management Accountant \\n\\n \\nCertifications: \\n \\n\\nInternational Certificate in Wealth & Investment Management (CISI) \\n\\uf0b7 \\n\\uf0b7  Risk in Financial Services (CISI) \\n\\uf0b7  Operational Risk (CISI) \\n\\uf0b7  ACI (The Financ ial Market Assoc iation) Certified Dealer \\n\\uf0b7  Emotional Intelligence (CBFS) \\n\\uf0b7  Colombo Stock Exchange (CSE) Certified  Investment Advisor, Derivatives Trader & Sponsor \\n\\uf0b7  Euro Money Certified Professional – Capital Market & Bond Mathematics \\n\\uf0b7  Central Bank of Sri Lanka Certified Finance Professional  \\n\\uf0b7  Obtained a Merit Pass (A) from the Vinod Kothari School of Securitisation  \\n\\n \\nProfessional & Personal development: \\n \\n\\n\\uf0b7  Platform competence – Reuters Eikon & Zawya  \\n\\uf0b7  Technical Analysis – Reuters / Smartline Training Institute (14 day resident course) \\n\\uf0b7  Financial system stability and framework – Central Bank of Sri Lanka \\n\\uf0b7  Capital Market Development – SEC/Securities and Exchange Commission, Sri Lanka \\nSecuritisation - SEC/Securities and Exchange Commission, Sri Lanka \\n\\uf0b7 \\n\\n \\n\\n \\n \\n \\n\\n \\n\\nDate of Birth \\n\\n: \\n\\n4th January 1981  \\n\\n \\n\\nResident \\n\\n: \\n\\nDubai, UAE \\n\\n \\nPERSONAL DETAILS \\n\\ne mail : vgowribalan@gmail.com     :     vgowribalan@live.com                  Mobile : (+971) 50 246 0800 \\n\\n\\x0c'"
      ]
     },
     "execution_count": 56,
     "metadata": {},
     "output_type": "execute_result"
    }
   ],
   "source": [
    "df[df.liked==1].iloc[0].resume"
   ]
  },
  {
   "cell_type": "code",
   "execution_count": 51,
   "metadata": {},
   "outputs": [
    {
     "data": {
      "text/plain": [
       "resume    Curriculum Vitae \\n\\nV. Gowribalan  MCSI \\n  F...\n",
       "liked                                                     1\n",
       "Name: 0, dtype: object"
      ]
     },
     "execution_count": 51,
     "metadata": {},
     "output_type": "execute_result"
    }
   ],
   "source": [
    "df.loc[0]"
   ]
  },
  {
   "cell_type": "code",
   "execution_count": 57,
   "metadata": {},
   "outputs": [],
   "source": [
    "df.to_csv('Resumes.csv')"
   ]
  },
  {
   "cell_type": "code",
   "execution_count": null,
   "metadata": {},
   "outputs": [],
   "source": []
  }
 ],
 "metadata": {
  "kernelspec": {
   "display_name": "Python 3",
   "language": "python",
   "name": "python3"
  },
  "language_info": {
   "codemirror_mode": {
    "name": "ipython",
    "version": 3
   },
   "file_extension": ".py",
   "mimetype": "text/x-python",
   "name": "python",
   "nbconvert_exporter": "python",
   "pygments_lexer": "ipython3",
   "version": "3.7.3"
  }
 },
 "nbformat": 4,
 "nbformat_minor": 2
}
